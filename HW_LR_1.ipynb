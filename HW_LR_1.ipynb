{
 "cells": [
  {
   "cell_type": "markdown",
   "metadata": {},
   "source": [
    "## Урок 1. Алгоритм линейной регрессии. Градиентный спуск"
   ]
  },
  {
   "cell_type": "code",
   "execution_count": 1,
   "metadata": {
    "colab": {},
    "colab_type": "code",
    "id": "ak8b3KV45kVW"
   },
   "outputs": [],
   "source": [
    "import numpy as np\n",
    "import matplotlib.pyplot as plt"
   ]
  },
  {
   "cell_type": "markdown",
   "metadata": {
    "colab_type": "text",
    "id": "huXrhXQsZTMt"
   },
   "source": [
    "1. Подберите скорость обучения (alpha) и количество итераций:"
   ]
  },
  {
   "cell_type": "code",
   "execution_count": 2,
   "metadata": {
    "colab": {
     "base_uri": "https://localhost:8080/",
     "height": 34
    },
    "colab_type": "code",
    "id": "VEXjDozNHdAo",
    "outputId": "7d12bb79-21b7-43fb-fd8e-d116a2af3bb7"
   },
   "outputs": [
    {
     "data": {
      "text/plain": [
       "(array([1. , 0.5]), 0.0001)"
      ]
     },
     "execution_count": 2,
     "metadata": {},
     "output_type": "execute_result"
    }
   ],
   "source": [
    "X = np.array([[1, 1, 1, 1, 1, 1, 1, 1, 1, 1],\n",
    "              [1, 1, 2, 1, 3, 0, 5, 10, 1, 2]])\n",
    "y = [45, 55, 50, 59, 65, 35, 75, 80, 50, 60]\n",
    "n = X.shape[1]\n",
    "alpha = 1e-4\n",
    "W = np.array([1, 0.5])\n",
    "W, alpha"
   ]
  },
  {
   "cell_type": "code",
   "execution_count": 3,
   "metadata": {},
   "outputs": [],
   "source": [
    "def calc_mse(y, y_pred):\n",
    "    err = np.mean((y - y_pred)**2)\n",
    "    return err"
   ]
  },
  {
   "cell_type": "code",
   "execution_count": 4,
   "metadata": {
    "colab": {
     "base_uri": "https://localhost:8080/",
     "height": 185
    },
    "colab_type": "code",
    "id": "IDB22MQKMYaJ",
    "outputId": "4c03219e-a57c-4583-f439-6699fd0619bb"
   },
   "outputs": [
    {
     "name": "stdout",
     "output_type": "stream",
     "text": [
      "0 [1.01102 0.534  ] 3173.15\n",
      "100 [2.02168794 3.452835  ] 2207.6942101483005\n",
      "200 [2.88306663 5.58962851] 1670.7027004086372\n",
      "300 [3.63289519 7.14848061] 1368.0832412796256\n",
      "400 [4.29908617 8.28027926] 1193.7493344933293\n",
      "500 [4.90228732 9.09657298] 1089.714750358689\n",
      "600 [5.45777535 9.67982684] 1024.2828984889416\n",
      "700 [ 5.97685612 10.0910047 ] 980.1260644155933\n",
      "800 [ 6.46789973 10.37517467] 947.770026039189\n",
      "900 [ 6.93710574 10.56565326] 922.0330206910179\n"
     ]
    }
   ],
   "source": [
    "for i in range(1000):\n",
    "    y_pred = np.dot(W, X)\n",
    "    err = calc_mse(y, y_pred)\n",
    "    for ii in range(W.shape[0]):\n",
    "        W[ii] -= alpha * (1/n * 2 * np.sum(X[ii] * (y_pred - y)))\n",
    "    if i % 100 == 0:\n",
    "        print(i, W, err)"
   ]
  },
  {
   "cell_type": "markdown",
   "metadata": {},
   "source": [
    "__Градиентный спуск__"
   ]
  },
  {
   "cell_type": "code",
   "execution_count": 5,
   "metadata": {},
   "outputs": [],
   "source": [
    "def gradient_descent(alpha, iterations, W, X=X, y=y):\n",
    "    n = X.shape[1]\n",
    "    err = np.inf\n",
    "    for i in range(iterations):\n",
    "        y_pred = np.dot(W, X)\n",
    "        err_new = calc_mse(y, y_pred)\n",
    "        if err_new < err:\n",
    "            err = err_new\n",
    "            for j in range(W.shape[0]):\n",
    "                W[j] -= alpha * (1/n * 2 * np.sum(X[j] * (y_pred - y))) \n",
    "        else:\n",
    "            return i-1, W, err\n",
    "    return i, W, err"
   ]
  },
  {
   "cell_type": "code",
   "execution_count": 6,
   "metadata": {},
   "outputs": [],
   "source": [
    "def calc_mse(y, y_pred):\n",
    "    error = np.mean((y - y_pred)**2)\n",
    "    return error"
   ]
  },
  {
   "cell_type": "markdown",
   "metadata": {},
   "source": [
    "__Подбор параметров__"
   ]
  },
  {
   "cell_type": "code",
   "execution_count": 7,
   "metadata": {},
   "outputs": [
    {
     "name": "stdout",
     "output_type": "stream",
     "text": [
      "Альфа = 0.1, количество итераций = 1000.0. Ошибка: 3173.15\n",
      "Альфа = 0.1, количество итераций = 10000.0. Ошибка: 3173.15\n",
      "Альфа = 0.1, количество итераций = 100000.0. Ошибка: 3173.15\n",
      "Альфа = 0.1, количество итераций = 1000000.0. Ошибка: 3173.15\n",
      "Альфа = 0.01, количество итераций = 1000.0. Ошибка: 45.937500890645076\n",
      "Альфа = 0.01, количество итераций = 10000.0. Ошибка: 45.93750000000112\n",
      "Альфа = 0.01, количество итераций = 100000.0. Ошибка: 45.93750000000112\n",
      "Альфа = 0.01, количество итераций = 1000000.0. Ошибка: 45.93750000000112\n",
      "Альфа = 0.001, количество итераций = 1000.0. Ошибка: 176.7399358190342\n",
      "Альфа = 0.001, количество итераций = 10000.0. Ошибка: 45.93750096407864\n",
      "Альфа = 0.001, количество итераций = 100000.0. Ошибка: 45.93750000001437\n",
      "Альфа = 0.001, количество итераций = 1000000.0. Ошибка: 45.93750000001437\n",
      "Альфа = 0.0001, количество итераций = 1000.0. Ошибка: 900.2860625234676\n",
      "Альфа = 0.0001, количество итераций = 10000.0. Ошибка: 176.62240977239327\n",
      "Альфа = 0.0001, количество итераций = 100000.0. Ошибка: 45.93750097169106\n",
      "Альфа = 0.0001, количество итераций = 1000000.0. Ошибка: 45.9375000001768\n",
      "Минимальная ошибка 45.93750000000112 достигается при коэфициентах (0.01, 10000.0)\n"
     ]
    }
   ],
   "source": [
    "min_err = np.inf\n",
    "min_coef = ()\n",
    "\n",
    "for alpha in [1e-1, 1e-2, 1e-3, 1e-4]:\n",
    "    for iters in [1e3, 1e4, 1e5, 1e6]:\n",
    "        W = np.array([1, 0.5])\n",
    "        num, wi, err = gradient_descent(alpha, int(iters), W)\n",
    "        print(f'Альфа = {alpha}, количество итераций = {iters}. Ошибка: {err}')\n",
    "        if err < min_err:\n",
    "            min_err = err\n",
    "            min_coef = (alpha, iters)\n",
    "\n",
    "print(f'Минимальная ошибка {min_err} достигается при коэфициентах {min_coef}')"
   ]
  },
  {
   "cell_type": "markdown",
   "metadata": {
    "colab_type": "text",
    "id": "5Qu1o4JhZYwI"
   },
   "source": [
    "*2. В этом коде мы избавляемся от итераций по весам, но тут есть ошибка, исправьте ее:"
   ]
  },
  {
   "cell_type": "code",
   "execution_count": 8,
   "metadata": {
    "colab": {
     "base_uri": "https://localhost:8080/",
     "height": 185
    },
    "colab_type": "code",
    "id": "WZZzDCQLY4pA",
    "outputId": "28f58ade-72f2-4381-809d-2417752d56e4"
   },
   "outputs": [
    {
     "name": "stdout",
     "output_type": "stream",
     "text": [
      "0 [47.23212473  3.91071764] 45.9375000001768\n",
      "100 [47.23212485  3.91071776] 45.937500000175156\n",
      "200 [47.23212493  3.91071784] 45.937500000174495\n",
      "300 [47.23212499  3.9107179 ] 45.93750000017417\n",
      "400 [47.23212502  3.91071793] 45.93750000017404\n",
      "500 [47.23212505  3.91071796] 45.93750000017398\n",
      "600 [47.23212506  3.91071797] 45.937500000173955\n",
      "700 [47.23212507  3.91071798] 45.93750000017395\n",
      "800 [47.23212508  3.91071799] 45.93750000017395\n",
      "900 [47.23212508  3.910718  ] 45.937500000173934\n"
     ]
    }
   ],
   "source": [
    "for i in range(1000):\n",
    "    y_pred = np.dot(W, X)\n",
    "    err = calc_mse(y, y_pred)\n",
    "    '''for ii in range(W.shape[0]):\n",
    "    W[ii] -= alpha * (1/n * 2 * np.sum(X[ii] * (y_pred - y)))'''\n",
    "    W -= (alpha * (1/n * 2 * np.sum(X * (y_pred - y))))\n",
    "    if i % 100 == 0:\n",
    "        print(i, W, err)"
   ]
  },
  {
   "cell_type": "markdown",
   "metadata": {},
   "source": [
    "Не указано по какой оси суммировать.\n",
    "\n",
    "__Меняем код__"
   ]
  },
  {
   "cell_type": "code",
   "execution_count": 9,
   "metadata": {},
   "outputs": [
    {
     "name": "stdout",
     "output_type": "stream",
     "text": [
      "0 [47.23212509  3.910718  ] 45.93750000017395\n",
      "100 [47.23212509  3.910718  ] 45.93750000017395\n",
      "200 [47.23212509  3.910718  ] 45.93750000017395\n",
      "300 [47.23212509  3.910718  ] 45.937500000173934\n",
      "400 [47.23212509  3.910718  ] 45.93750000017393\n",
      "500 [47.23212509  3.910718  ] 45.93750000017393\n",
      "600 [47.23212509  3.910718  ] 45.93750000017393\n",
      "700 [47.23212509  3.910718  ] 45.937500000173955\n",
      "800 [47.23212509  3.910718  ] 45.937500000173955\n",
      "900 [47.23212509  3.910718  ] 45.93750000017393\n"
     ]
    }
   ],
   "source": [
    "e = 0.001\n",
    "last_err = None\n",
    "\n",
    "for i in range(1000):\n",
    "    y_pred = np.dot(W, X)\n",
    "    err = calc_mse(y, y_pred)\n",
    "    '''for ii in range(W.shape[0]):\n",
    "    W[ii] -= alpha * (1/n * 2 * np.sum(X[ii] * (y_pred - y)))'''\n",
    "    W -= (alpha * (1/n * 2 * np.sum(X @ (y_pred - y))))\n",
    "    if i % 100 == 0:\n",
    "        print(i, W, err)"
   ]
  },
  {
   "cell_type": "markdown",
   "metadata": {},
   "source": [
    "*3. вместо того, чтобы задавать количество итераций, задайте условие остановки алгоритма - когда ошибка за итерацию\n",
    "начинает изменяться ниже определенного порога (упрощенный аналог параметра tol в линейной регрессии в sklearn)."
   ]
  },
  {
   "cell_type": "code",
   "execution_count": 10,
   "metadata": {},
   "outputs": [
    {
     "name": "stdout",
     "output_type": "stream",
     "text": [
      "Итераций = 2, Подобранные веса = [47.2321251  3.910718 ], Ошибка = 45.93750000017389\n"
     ]
    }
   ],
   "source": [
    "err_min = np.inf\n",
    "err = 1e6\n",
    "eps = 1e-5\n",
    "i = 0\n",
    "while err_min - err > eps:\n",
    "    y_pred = np.dot(W, X)\n",
    "    err, err_min = calc_mse(y, y_pred), err\n",
    "    W -= (alpha * (1/n * 2 * np.sum(X * (y_pred - y), axis=1)))\n",
    "    i += 1\n",
    "print(f'Итераций = {i}, Подобранные веса = {W}, Ошибка = {err}')"
   ]
  }
 ],
 "metadata": {
  "colab": {
   "collapsed_sections": [],
   "name": "Lesson1.ipynb",
   "provenance": []
  },
  "kernelspec": {
   "display_name": "Python 3",
   "language": "python",
   "name": "python3"
  },
  "language_info": {
   "codemirror_mode": {
    "name": "ipython",
    "version": 3
   },
   "file_extension": ".py",
   "mimetype": "text/x-python",
   "name": "python",
   "nbconvert_exporter": "python",
   "pygments_lexer": "ipython3",
   "version": "3.7.6"
  }
 },
 "nbformat": 4,
 "nbformat_minor": 1
}
